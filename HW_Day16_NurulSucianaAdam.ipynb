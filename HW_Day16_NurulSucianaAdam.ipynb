{
 "cells": [
  {
   "cell_type": "code",
   "execution_count": 33,
   "id": "304fca96",
   "metadata": {},
   "outputs": [],
   "source": [
    "#import library\n",
    "import numpy as np\n",
    "import pandas as pd\n",
    "import seaborn as sns\n",
    "import matplotlib.pyplot as plt"
   ]
  },
  {
   "cell_type": "code",
   "execution_count": 34,
   "id": "f46ffa05",
   "metadata": {},
   "outputs": [
    {
     "data": {
      "text/html": [
       "<div>\n",
       "<style scoped>\n",
       "    .dataframe tbody tr th:only-of-type {\n",
       "        vertical-align: middle;\n",
       "    }\n",
       "\n",
       "    .dataframe tbody tr th {\n",
       "        vertical-align: top;\n",
       "    }\n",
       "\n",
       "    .dataframe thead th {\n",
       "        text-align: right;\n",
       "    }\n",
       "</style>\n",
       "<table border=\"1\" class=\"dataframe\">\n",
       "  <thead>\n",
       "    <tr style=\"text-align: right;\">\n",
       "      <th></th>\n",
       "      <th>crim</th>\n",
       "      <th>zn</th>\n",
       "      <th>indus</th>\n",
       "      <th>chas</th>\n",
       "      <th>nox</th>\n",
       "      <th>rm</th>\n",
       "      <th>age</th>\n",
       "      <th>dis</th>\n",
       "      <th>rad</th>\n",
       "      <th>tax</th>\n",
       "      <th>ptratio</th>\n",
       "      <th>black</th>\n",
       "      <th>lstat</th>\n",
       "      <th>medv</th>\n",
       "    </tr>\n",
       "  </thead>\n",
       "  <tbody>\n",
       "    <tr>\n",
       "      <th>0</th>\n",
       "      <td>0.00632</td>\n",
       "      <td>18.0</td>\n",
       "      <td>2.31</td>\n",
       "      <td>0</td>\n",
       "      <td>0.538</td>\n",
       "      <td>6.575</td>\n",
       "      <td>65.2</td>\n",
       "      <td>4.0900</td>\n",
       "      <td>1</td>\n",
       "      <td>296</td>\n",
       "      <td>15.3</td>\n",
       "      <td>396.90</td>\n",
       "      <td>4.98</td>\n",
       "      <td>24.0</td>\n",
       "    </tr>\n",
       "    <tr>\n",
       "      <th>1</th>\n",
       "      <td>0.02731</td>\n",
       "      <td>0.0</td>\n",
       "      <td>7.07</td>\n",
       "      <td>0</td>\n",
       "      <td>0.469</td>\n",
       "      <td>6.421</td>\n",
       "      <td>78.9</td>\n",
       "      <td>4.9671</td>\n",
       "      <td>2</td>\n",
       "      <td>242</td>\n",
       "      <td>17.8</td>\n",
       "      <td>396.90</td>\n",
       "      <td>9.14</td>\n",
       "      <td>21.6</td>\n",
       "    </tr>\n",
       "    <tr>\n",
       "      <th>2</th>\n",
       "      <td>0.02729</td>\n",
       "      <td>0.0</td>\n",
       "      <td>7.07</td>\n",
       "      <td>0</td>\n",
       "      <td>0.469</td>\n",
       "      <td>7.185</td>\n",
       "      <td>61.1</td>\n",
       "      <td>4.9671</td>\n",
       "      <td>2</td>\n",
       "      <td>242</td>\n",
       "      <td>17.8</td>\n",
       "      <td>392.83</td>\n",
       "      <td>4.03</td>\n",
       "      <td>34.7</td>\n",
       "    </tr>\n",
       "    <tr>\n",
       "      <th>3</th>\n",
       "      <td>0.03237</td>\n",
       "      <td>0.0</td>\n",
       "      <td>2.18</td>\n",
       "      <td>0</td>\n",
       "      <td>0.458</td>\n",
       "      <td>6.998</td>\n",
       "      <td>45.8</td>\n",
       "      <td>6.0622</td>\n",
       "      <td>3</td>\n",
       "      <td>222</td>\n",
       "      <td>18.7</td>\n",
       "      <td>394.63</td>\n",
       "      <td>2.94</td>\n",
       "      <td>33.4</td>\n",
       "    </tr>\n",
       "    <tr>\n",
       "      <th>4</th>\n",
       "      <td>0.06905</td>\n",
       "      <td>0.0</td>\n",
       "      <td>2.18</td>\n",
       "      <td>0</td>\n",
       "      <td>0.458</td>\n",
       "      <td>7.147</td>\n",
       "      <td>54.2</td>\n",
       "      <td>6.0622</td>\n",
       "      <td>3</td>\n",
       "      <td>222</td>\n",
       "      <td>18.7</td>\n",
       "      <td>396.90</td>\n",
       "      <td>5.33</td>\n",
       "      <td>36.2</td>\n",
       "    </tr>\n",
       "  </tbody>\n",
       "</table>\n",
       "</div>"
      ],
      "text/plain": [
       "      crim    zn  indus  chas    nox     rm   age     dis  rad  tax  ptratio  \\\n",
       "0  0.00632  18.0   2.31     0  0.538  6.575  65.2  4.0900    1  296     15.3   \n",
       "1  0.02731   0.0   7.07     0  0.469  6.421  78.9  4.9671    2  242     17.8   \n",
       "2  0.02729   0.0   7.07     0  0.469  7.185  61.1  4.9671    2  242     17.8   \n",
       "3  0.03237   0.0   2.18     0  0.458  6.998  45.8  6.0622    3  222     18.7   \n",
       "4  0.06905   0.0   2.18     0  0.458  7.147  54.2  6.0622    3  222     18.7   \n",
       "\n",
       "    black  lstat  medv  \n",
       "0  396.90   4.98  24.0  \n",
       "1  396.90   9.14  21.6  \n",
       "2  392.83   4.03  34.7  \n",
       "3  394.63   2.94  33.4  \n",
       "4  396.90   5.33  36.2  "
      ]
     },
     "execution_count": 34,
     "metadata": {},
     "output_type": "execute_result"
    }
   ],
   "source": [
    "#load dataset\n",
    "boston = pd.read_csv ('boston.csv')\n",
    "boston.head()"
   ]
  },
  {
   "cell_type": "markdown",
   "id": "3279795c",
   "metadata": {},
   "source": [
    "### DATA OVERVIEW"
   ]
  },
  {
   "cell_type": "code",
   "execution_count": 35,
   "id": "bb100c65",
   "metadata": {},
   "outputs": [
    {
     "name": "stdout",
     "output_type": "stream",
     "text": [
      "<class 'pandas.core.frame.DataFrame'>\n",
      "RangeIndex: 506 entries, 0 to 505\n",
      "Data columns (total 14 columns):\n",
      " #   Column   Non-Null Count  Dtype  \n",
      "---  ------   --------------  -----  \n",
      " 0   crim     506 non-null    float64\n",
      " 1   zn       506 non-null    float64\n",
      " 2   indus    506 non-null    float64\n",
      " 3   chas     506 non-null    int64  \n",
      " 4   nox      506 non-null    float64\n",
      " 5   rm       506 non-null    float64\n",
      " 6   age      506 non-null    float64\n",
      " 7   dis      506 non-null    float64\n",
      " 8   rad      506 non-null    int64  \n",
      " 9   tax      506 non-null    int64  \n",
      " 10  ptratio  506 non-null    float64\n",
      " 11  black    506 non-null    float64\n",
      " 12  lstat    506 non-null    float64\n",
      " 13  medv     506 non-null    float64\n",
      "dtypes: float64(11), int64(3)\n",
      "memory usage: 55.5 KB\n"
     ]
    }
   ],
   "source": [
    "boston.info()"
   ]
  },
  {
   "cell_type": "code",
   "execution_count": 36,
   "id": "6f91c5b8",
   "metadata": {},
   "outputs": [
    {
     "data": {
      "text/html": [
       "<div>\n",
       "<style scoped>\n",
       "    .dataframe tbody tr th:only-of-type {\n",
       "        vertical-align: middle;\n",
       "    }\n",
       "\n",
       "    .dataframe tbody tr th {\n",
       "        vertical-align: top;\n",
       "    }\n",
       "\n",
       "    .dataframe thead th {\n",
       "        text-align: right;\n",
       "    }\n",
       "</style>\n",
       "<table border=\"1\" class=\"dataframe\">\n",
       "  <thead>\n",
       "    <tr style=\"text-align: right;\">\n",
       "      <th></th>\n",
       "      <th>index</th>\n",
       "      <th>crim</th>\n",
       "      <th>zn</th>\n",
       "      <th>indus</th>\n",
       "      <th>chas</th>\n",
       "      <th>nox</th>\n",
       "      <th>rm</th>\n",
       "      <th>age</th>\n",
       "      <th>dis</th>\n",
       "      <th>rad</th>\n",
       "      <th>tax</th>\n",
       "      <th>ptratio</th>\n",
       "      <th>black</th>\n",
       "      <th>lstat</th>\n",
       "      <th>medv</th>\n",
       "    </tr>\n",
       "  </thead>\n",
       "  <tbody>\n",
       "    <tr>\n",
       "      <th>0</th>\n",
       "      <td>count</td>\n",
       "      <td>506.000000</td>\n",
       "      <td>506.000000</td>\n",
       "      <td>506.000000</td>\n",
       "      <td>506.000000</td>\n",
       "      <td>506.000000</td>\n",
       "      <td>506.000000</td>\n",
       "      <td>506.000000</td>\n",
       "      <td>506.000000</td>\n",
       "      <td>506.000000</td>\n",
       "      <td>506.000000</td>\n",
       "      <td>506.000000</td>\n",
       "      <td>506.000000</td>\n",
       "      <td>506.000000</td>\n",
       "      <td>506.000000</td>\n",
       "    </tr>\n",
       "    <tr>\n",
       "      <th>1</th>\n",
       "      <td>mean</td>\n",
       "      <td>3.613524</td>\n",
       "      <td>11.363636</td>\n",
       "      <td>11.136779</td>\n",
       "      <td>0.069170</td>\n",
       "      <td>0.554695</td>\n",
       "      <td>6.284634</td>\n",
       "      <td>68.574901</td>\n",
       "      <td>3.795043</td>\n",
       "      <td>9.549407</td>\n",
       "      <td>408.237154</td>\n",
       "      <td>18.455534</td>\n",
       "      <td>356.674032</td>\n",
       "      <td>12.653063</td>\n",
       "      <td>22.532806</td>\n",
       "    </tr>\n",
       "    <tr>\n",
       "      <th>2</th>\n",
       "      <td>std</td>\n",
       "      <td>8.601545</td>\n",
       "      <td>23.322453</td>\n",
       "      <td>6.860353</td>\n",
       "      <td>0.253994</td>\n",
       "      <td>0.115878</td>\n",
       "      <td>0.702617</td>\n",
       "      <td>28.148861</td>\n",
       "      <td>2.105710</td>\n",
       "      <td>8.707259</td>\n",
       "      <td>168.537116</td>\n",
       "      <td>2.164946</td>\n",
       "      <td>91.294864</td>\n",
       "      <td>7.141062</td>\n",
       "      <td>9.197104</td>\n",
       "    </tr>\n",
       "    <tr>\n",
       "      <th>3</th>\n",
       "      <td>min</td>\n",
       "      <td>0.006320</td>\n",
       "      <td>0.000000</td>\n",
       "      <td>0.460000</td>\n",
       "      <td>0.000000</td>\n",
       "      <td>0.385000</td>\n",
       "      <td>3.561000</td>\n",
       "      <td>2.900000</td>\n",
       "      <td>1.129600</td>\n",
       "      <td>1.000000</td>\n",
       "      <td>187.000000</td>\n",
       "      <td>12.600000</td>\n",
       "      <td>0.320000</td>\n",
       "      <td>1.730000</td>\n",
       "      <td>5.000000</td>\n",
       "    </tr>\n",
       "    <tr>\n",
       "      <th>4</th>\n",
       "      <td>25%</td>\n",
       "      <td>0.082045</td>\n",
       "      <td>0.000000</td>\n",
       "      <td>5.190000</td>\n",
       "      <td>0.000000</td>\n",
       "      <td>0.449000</td>\n",
       "      <td>5.885500</td>\n",
       "      <td>45.025000</td>\n",
       "      <td>2.100175</td>\n",
       "      <td>4.000000</td>\n",
       "      <td>279.000000</td>\n",
       "      <td>17.400000</td>\n",
       "      <td>375.377500</td>\n",
       "      <td>6.950000</td>\n",
       "      <td>17.025000</td>\n",
       "    </tr>\n",
       "    <tr>\n",
       "      <th>5</th>\n",
       "      <td>50%</td>\n",
       "      <td>0.256510</td>\n",
       "      <td>0.000000</td>\n",
       "      <td>9.690000</td>\n",
       "      <td>0.000000</td>\n",
       "      <td>0.538000</td>\n",
       "      <td>6.208500</td>\n",
       "      <td>77.500000</td>\n",
       "      <td>3.207450</td>\n",
       "      <td>5.000000</td>\n",
       "      <td>330.000000</td>\n",
       "      <td>19.050000</td>\n",
       "      <td>391.440000</td>\n",
       "      <td>11.360000</td>\n",
       "      <td>21.200000</td>\n",
       "    </tr>\n",
       "    <tr>\n",
       "      <th>6</th>\n",
       "      <td>75%</td>\n",
       "      <td>3.677083</td>\n",
       "      <td>12.500000</td>\n",
       "      <td>18.100000</td>\n",
       "      <td>0.000000</td>\n",
       "      <td>0.624000</td>\n",
       "      <td>6.623500</td>\n",
       "      <td>94.075000</td>\n",
       "      <td>5.188425</td>\n",
       "      <td>24.000000</td>\n",
       "      <td>666.000000</td>\n",
       "      <td>20.200000</td>\n",
       "      <td>396.225000</td>\n",
       "      <td>16.955000</td>\n",
       "      <td>25.000000</td>\n",
       "    </tr>\n",
       "    <tr>\n",
       "      <th>7</th>\n",
       "      <td>max</td>\n",
       "      <td>88.976200</td>\n",
       "      <td>100.000000</td>\n",
       "      <td>27.740000</td>\n",
       "      <td>1.000000</td>\n",
       "      <td>0.871000</td>\n",
       "      <td>8.780000</td>\n",
       "      <td>100.000000</td>\n",
       "      <td>12.126500</td>\n",
       "      <td>24.000000</td>\n",
       "      <td>711.000000</td>\n",
       "      <td>22.000000</td>\n",
       "      <td>396.900000</td>\n",
       "      <td>37.970000</td>\n",
       "      <td>50.000000</td>\n",
       "    </tr>\n",
       "  </tbody>\n",
       "</table>\n",
       "</div>"
      ],
      "text/plain": [
       "   index        crim          zn       indus        chas         nox  \\\n",
       "0  count  506.000000  506.000000  506.000000  506.000000  506.000000   \n",
       "1   mean    3.613524   11.363636   11.136779    0.069170    0.554695   \n",
       "2    std    8.601545   23.322453    6.860353    0.253994    0.115878   \n",
       "3    min    0.006320    0.000000    0.460000    0.000000    0.385000   \n",
       "4    25%    0.082045    0.000000    5.190000    0.000000    0.449000   \n",
       "5    50%    0.256510    0.000000    9.690000    0.000000    0.538000   \n",
       "6    75%    3.677083   12.500000   18.100000    0.000000    0.624000   \n",
       "7    max   88.976200  100.000000   27.740000    1.000000    0.871000   \n",
       "\n",
       "           rm         age         dis         rad         tax     ptratio  \\\n",
       "0  506.000000  506.000000  506.000000  506.000000  506.000000  506.000000   \n",
       "1    6.284634   68.574901    3.795043    9.549407  408.237154   18.455534   \n",
       "2    0.702617   28.148861    2.105710    8.707259  168.537116    2.164946   \n",
       "3    3.561000    2.900000    1.129600    1.000000  187.000000   12.600000   \n",
       "4    5.885500   45.025000    2.100175    4.000000  279.000000   17.400000   \n",
       "5    6.208500   77.500000    3.207450    5.000000  330.000000   19.050000   \n",
       "6    6.623500   94.075000    5.188425   24.000000  666.000000   20.200000   \n",
       "7    8.780000  100.000000   12.126500   24.000000  711.000000   22.000000   \n",
       "\n",
       "        black       lstat        medv  \n",
       "0  506.000000  506.000000  506.000000  \n",
       "1  356.674032   12.653063   22.532806  \n",
       "2   91.294864    7.141062    9.197104  \n",
       "3    0.320000    1.730000    5.000000  \n",
       "4  375.377500    6.950000   17.025000  \n",
       "5  391.440000   11.360000   21.200000  \n",
       "6  396.225000   16.955000   25.000000  \n",
       "7  396.900000   37.970000   50.000000  "
      ]
     },
     "execution_count": 36,
     "metadata": {},
     "output_type": "execute_result"
    }
   ],
   "source": [
    "boston.describe().reset_index()"
   ]
  },
  {
   "cell_type": "markdown",
   "id": "989ca0ab",
   "metadata": {},
   "source": [
    "### SPLIT DATA"
   ]
  },
  {
   "cell_type": "code",
   "execution_count": 37,
   "id": "f857b917",
   "metadata": {},
   "outputs": [],
   "source": [
    "# split train test\n",
    "from sklearn.model_selection import train_test_split\n",
    "\n",
    "feature = boston.drop(columns='medv')\n",
    "target = boston[['medv']]\n",
    "\n",
    "feature_boston_train, feature_boston_test, target_boston_train, target_boston_test = train_test_split(feature, target, test_size=0.20, random_state=42)"
   ]
  },
  {
   "cell_type": "code",
   "execution_count": 38,
   "id": "6e351b05",
   "metadata": {},
   "outputs": [
    {
     "data": {
      "text/html": [
       "<div>\n",
       "<style scoped>\n",
       "    .dataframe tbody tr th:only-of-type {\n",
       "        vertical-align: middle;\n",
       "    }\n",
       "\n",
       "    .dataframe tbody tr th {\n",
       "        vertical-align: top;\n",
       "    }\n",
       "\n",
       "    .dataframe thead th {\n",
       "        text-align: right;\n",
       "    }\n",
       "</style>\n",
       "<table border=\"1\" class=\"dataframe\">\n",
       "  <thead>\n",
       "    <tr style=\"text-align: right;\">\n",
       "      <th></th>\n",
       "      <th>feature</th>\n",
       "      <th>vif_score</th>\n",
       "    </tr>\n",
       "  </thead>\n",
       "  <tbody>\n",
       "    <tr>\n",
       "      <th>1</th>\n",
       "      <td>crim</td>\n",
       "      <td>1.713187</td>\n",
       "    </tr>\n",
       "    <tr>\n",
       "      <th>2</th>\n",
       "      <td>zn</td>\n",
       "      <td>2.465631</td>\n",
       "    </tr>\n",
       "    <tr>\n",
       "      <th>3</th>\n",
       "      <td>indus</td>\n",
       "      <td>3.877855</td>\n",
       "    </tr>\n",
       "    <tr>\n",
       "      <th>4</th>\n",
       "      <td>chas</td>\n",
       "      <td>1.096674</td>\n",
       "    </tr>\n",
       "    <tr>\n",
       "      <th>5</th>\n",
       "      <td>nox</td>\n",
       "      <td>4.469150</td>\n",
       "    </tr>\n",
       "    <tr>\n",
       "      <th>6</th>\n",
       "      <td>rm</td>\n",
       "      <td>1.947809</td>\n",
       "    </tr>\n",
       "    <tr>\n",
       "      <th>7</th>\n",
       "      <td>age</td>\n",
       "      <td>2.989948</td>\n",
       "    </tr>\n",
       "    <tr>\n",
       "      <th>8</th>\n",
       "      <td>dis</td>\n",
       "      <td>4.168578</td>\n",
       "    </tr>\n",
       "    <tr>\n",
       "      <th>9</th>\n",
       "      <td>rad</td>\n",
       "      <td>7.658316</td>\n",
       "    </tr>\n",
       "    <tr>\n",
       "      <th>10</th>\n",
       "      <td>tax</td>\n",
       "      <td>8.943301</td>\n",
       "    </tr>\n",
       "    <tr>\n",
       "      <th>11</th>\n",
       "      <td>ptratio</td>\n",
       "      <td>1.851448</td>\n",
       "    </tr>\n",
       "    <tr>\n",
       "      <th>12</th>\n",
       "      <td>black</td>\n",
       "      <td>1.325121</td>\n",
       "    </tr>\n",
       "    <tr>\n",
       "      <th>13</th>\n",
       "      <td>lstat</td>\n",
       "      <td>2.818045</td>\n",
       "    </tr>\n",
       "  </tbody>\n",
       "</table>\n",
       "</div>"
      ],
      "text/plain": [
       "    feature  vif_score\n",
       "1      crim   1.713187\n",
       "2        zn   2.465631\n",
       "3     indus   3.877855\n",
       "4      chas   1.096674\n",
       "5       nox   4.469150\n",
       "6        rm   1.947809\n",
       "7       age   2.989948\n",
       "8       dis   4.168578\n",
       "9       rad   7.658316\n",
       "10      tax   8.943301\n",
       "11  ptratio   1.851448\n",
       "12    black   1.325121\n",
       "13    lstat   2.818045"
      ]
     },
     "execution_count": 38,
     "metadata": {},
     "output_type": "execute_result"
    }
   ],
   "source": [
    "# calculate VIF scores\n",
    "from statsmodels.stats.outliers_influence import variance_inflation_factor as vif \n",
    "from statsmodels.tools.tools import add_constant\n",
    "\n",
    "X = add_constant(feature_boston_train)\n",
    "\n",
    "vif_df = pd.DataFrame([vif(X.values, i) \n",
    "               for i in range(X.shape[1])], \n",
    "              index=X.columns).reset_index()\n",
    "vif_df.columns = ['feature','vif_score']\n",
    "vif_df = vif_df.loc[vif_df.feature!='const']\n",
    "vif_df"
   ]
  },
  {
   "cell_type": "markdown",
   "id": "6fbef23a",
   "metadata": {},
   "source": [
    "There are several features with high VIF scores :\n",
    "1. nox\n",
    "2. dis\n",
    "3. rad\n",
    "4. tax"
   ]
  },
  {
   "cell_type": "code",
   "execution_count": 39,
   "id": "9b8e3c6c",
   "metadata": {},
   "outputs": [
    {
     "data": {
      "image/png": "[encoded data removed]",
      "text/plain": [
       "<Figure size 720x576 with 2 Axes>"
      ]
     },
     "metadata": {
      "needs_background": "light"
     },
     "output_type": "display_data"
    }
   ],
   "source": [
    "# heatmap correlation\n",
    "boston_train = pd.concat([feature_boston_train, target_boston_train], axis=1)\n",
    "corr = boston_train.corr()\n",
    "\n",
    "plt.figure(figsize=(10,8))\n",
    "sns.heatmap(corr, annot=True, fmt='.2f')\n",
    "plt.show()"
   ]
  },
  {
   "cell_type": "markdown",
   "id": "10b6e898",
   "metadata": {},
   "source": [
    "Between tax and rad, both are highly collerated each other (0.91). Here, I choose to retain 'tax', so I want to drop 'rad'."
   ]
  },
  {
   "cell_type": "code",
   "execution_count": 40,
   "id": "8547c4fa",
   "metadata": {},
   "outputs": [],
   "source": [
    "# drop redundant features\n",
    "feature_boston_train = feature_boston_train.drop(columns=['rad'])\n",
    "feature_boston_test = feature_boston_test.drop(columns=['rad'])"
   ]
  },
  {
   "cell_type": "markdown",
   "id": "f2f47c19",
   "metadata": {},
   "source": [
    "### Recheck VIF"
   ]
  },
  {
   "cell_type": "code",
   "execution_count": 41,
   "id": "0d7039b9",
   "metadata": {},
   "outputs": [
    {
     "data": {
      "text/html": [
       "<div>\n",
       "<style scoped>\n",
       "    .dataframe tbody tr th:only-of-type {\n",
       "        vertical-align: middle;\n",
       "    }\n",
       "\n",
       "    .dataframe tbody tr th {\n",
       "        vertical-align: top;\n",
       "    }\n",
       "\n",
       "    .dataframe thead th {\n",
       "        text-align: right;\n",
       "    }\n",
       "</style>\n",
       "<table border=\"1\" class=\"dataframe\">\n",
       "  <thead>\n",
       "    <tr style=\"text-align: right;\">\n",
       "      <th></th>\n",
       "      <th>feature</th>\n",
       "      <th>vif_score</th>\n",
       "    </tr>\n",
       "  </thead>\n",
       "  <tbody>\n",
       "    <tr>\n",
       "      <th>1</th>\n",
       "      <td>crim</td>\n",
       "      <td>1.593872</td>\n",
       "    </tr>\n",
       "    <tr>\n",
       "      <th>2</th>\n",
       "      <td>zn</td>\n",
       "      <td>2.413664</td>\n",
       "    </tr>\n",
       "    <tr>\n",
       "      <th>3</th>\n",
       "      <td>indus</td>\n",
       "      <td>3.658237</td>\n",
       "    </tr>\n",
       "    <tr>\n",
       "      <th>4</th>\n",
       "      <td>chas</td>\n",
       "      <td>1.084671</td>\n",
       "    </tr>\n",
       "    <tr>\n",
       "      <th>5</th>\n",
       "      <td>nox</td>\n",
       "      <td>4.411973</td>\n",
       "    </tr>\n",
       "    <tr>\n",
       "      <th>6</th>\n",
       "      <td>rm</td>\n",
       "      <td>1.884987</td>\n",
       "    </tr>\n",
       "    <tr>\n",
       "      <th>7</th>\n",
       "      <td>age</td>\n",
       "      <td>2.977080</td>\n",
       "    </tr>\n",
       "    <tr>\n",
       "      <th>8</th>\n",
       "      <td>dis</td>\n",
       "      <td>4.166015</td>\n",
       "    </tr>\n",
       "    <tr>\n",
       "      <th>9</th>\n",
       "      <td>tax</td>\n",
       "      <td>3.331299</td>\n",
       "    </tr>\n",
       "    <tr>\n",
       "      <th>10</th>\n",
       "      <td>ptratio</td>\n",
       "      <td>1.776290</td>\n",
       "    </tr>\n",
       "    <tr>\n",
       "      <th>11</th>\n",
       "      <td>black</td>\n",
       "      <td>1.318462</td>\n",
       "    </tr>\n",
       "    <tr>\n",
       "      <th>12</th>\n",
       "      <td>lstat</td>\n",
       "      <td>2.807207</td>\n",
       "    </tr>\n",
       "  </tbody>\n",
       "</table>\n",
       "</div>"
      ],
      "text/plain": [
       "    feature  vif_score\n",
       "1      crim   1.593872\n",
       "2        zn   2.413664\n",
       "3     indus   3.658237\n",
       "4      chas   1.084671\n",
       "5       nox   4.411973\n",
       "6        rm   1.884987\n",
       "7       age   2.977080\n",
       "8       dis   4.166015\n",
       "9       tax   3.331299\n",
       "10  ptratio   1.776290\n",
       "11    black   1.318462\n",
       "12    lstat   2.807207"
      ]
     },
     "execution_count": 41,
     "metadata": {},
     "output_type": "execute_result"
    }
   ],
   "source": [
    "from statsmodels.stats.outliers_influence import variance_inflation_factor as vif \n",
    "from statsmodels.tools.tools import add_constant\n",
    "\n",
    "X = add_constant(feature_boston_train)\n",
    "\n",
    "vif_df = pd.DataFrame([vif(X.values, i) \n",
    "               for i in range(X.shape[1])], \n",
    "              index=X.columns).reset_index()\n",
    "vif_df.columns = ['feature','vif_score']\n",
    "vif_df = vif_df.loc[vif_df.feature!='const']\n",
    "vif_df"
   ]
  },
  {
   "cell_type": "markdown",
   "id": "49c3d787",
   "metadata": {},
   "source": [
    "After dropping fitur 'rad', VIF value of 'tax' drop into 3.33"
   ]
  },
  {
   "cell_type": "markdown",
   "id": "9e166050",
   "metadata": {},
   "source": [
    "### Model Training"
   ]
  },
  {
   "cell_type": "markdown",
   "id": "5842d3dd",
   "metadata": {},
   "source": [
    "#### Ridge Regresstion"
   ]
  },
  {
   "cell_type": "code",
   "execution_count": 42,
   "id": "530c631e",
   "metadata": {},
   "outputs": [
    {
     "data": {
      "text/plain": [
       "Ridge(alpha=0.1, random_state=42)"
      ]
     },
     "execution_count": 42,
     "metadata": {},
     "output_type": "execute_result"
    }
   ],
   "source": [
    "from sklearn.linear_model import Ridge\n",
    "\n",
    "# train the model\n",
    "X_boston_train = feature_boston_train.to_numpy()\n",
    "y_boston_train = target_boston_train.to_numpy()\n",
    "y_boston_train = y_boston_train.reshape(len(y_boston_train),)\n",
    "\n",
    "# define the model\n",
    "ridge_reg = Ridge(alpha=0.1, \n",
    "                  random_state=42)\n",
    "\n",
    "ridge_reg.fit(X_boston_train, y_boston_train)"
   ]
  },
  {
   "cell_type": "code",
   "execution_count": 43,
   "id": "4a21f9e6",
   "metadata": {},
   "outputs": [
    {
     "data": {
      "text/html": [
       "<div>\n",
       "<style scoped>\n",
       "    .dataframe tbody tr th:only-of-type {\n",
       "        vertical-align: middle;\n",
       "    }\n",
       "\n",
       "    .dataframe tbody tr th {\n",
       "        vertical-align: top;\n",
       "    }\n",
       "\n",
       "    .dataframe thead th {\n",
       "        text-align: right;\n",
       "    }\n",
       "</style>\n",
       "<table border=\"1\" class=\"dataframe\">\n",
       "  <thead>\n",
       "    <tr style=\"text-align: right;\">\n",
       "      <th></th>\n",
       "      <th>feature</th>\n",
       "      <th>coefficient</th>\n",
       "    </tr>\n",
       "  </thead>\n",
       "  <tbody>\n",
       "    <tr>\n",
       "      <th>0</th>\n",
       "      <td>intercept</td>\n",
       "      <td>23.518308</td>\n",
       "    </tr>\n",
       "    <tr>\n",
       "      <th>1</th>\n",
       "      <td>crim</td>\n",
       "      <td>-0.081022</td>\n",
       "    </tr>\n",
       "    <tr>\n",
       "      <th>2</th>\n",
       "      <td>zn</td>\n",
       "      <td>0.022474</td>\n",
       "    </tr>\n",
       "    <tr>\n",
       "      <th>3</th>\n",
       "      <td>indus</td>\n",
       "      <td>-0.019493</td>\n",
       "    </tr>\n",
       "    <tr>\n",
       "      <th>4</th>\n",
       "      <td>chas</td>\n",
       "      <td>3.093697</td>\n",
       "    </tr>\n",
       "    <tr>\n",
       "      <th>5</th>\n",
       "      <td>nox</td>\n",
       "      <td>-14.404510</td>\n",
       "    </tr>\n",
       "    <tr>\n",
       "      <th>6</th>\n",
       "      <td>rm</td>\n",
       "      <td>4.729954</td>\n",
       "    </tr>\n",
       "    <tr>\n",
       "      <th>7</th>\n",
       "      <td>age</td>\n",
       "      <td>-0.010476</td>\n",
       "    </tr>\n",
       "    <tr>\n",
       "      <th>8</th>\n",
       "      <td>dis</td>\n",
       "      <td>-1.412181</td>\n",
       "    </tr>\n",
       "    <tr>\n",
       "      <th>9</th>\n",
       "      <td>tax</td>\n",
       "      <td>0.000750</td>\n",
       "    </tr>\n",
       "    <tr>\n",
       "      <th>10</th>\n",
       "      <td>ptratio</td>\n",
       "      <td>-0.802848</td>\n",
       "    </tr>\n",
       "    <tr>\n",
       "      <th>11</th>\n",
       "      <td>black</td>\n",
       "      <td>0.011676</td>\n",
       "    </tr>\n",
       "    <tr>\n",
       "      <th>12</th>\n",
       "      <td>lstat</td>\n",
       "      <td>-0.498907</td>\n",
       "    </tr>\n",
       "  </tbody>\n",
       "</table>\n",
       "</div>"
      ],
      "text/plain": [
       "      feature  coefficient\n",
       "0   intercept    23.518308\n",
       "1        crim    -0.081022\n",
       "2          zn     0.022474\n",
       "3       indus    -0.019493\n",
       "4        chas     3.093697\n",
       "5         nox   -14.404510\n",
       "6          rm     4.729954\n",
       "7         age    -0.010476\n",
       "8         dis    -1.412181\n",
       "9         tax     0.000750\n",
       "10    ptratio    -0.802848\n",
       "11      black     0.011676\n",
       "12      lstat    -0.498907"
      ]
     },
     "execution_count": 43,
     "metadata": {},
     "output_type": "execute_result"
    }
   ],
   "source": [
    "# retrieve the coefficients\n",
    "# show as a nice dataframe\n",
    "\n",
    "data = feature_boston_train\n",
    "model = ridge_reg\n",
    "\n",
    "coef_df = pd.DataFrame({\n",
    "    'feature':['intercept'] + data.columns.tolist(),\n",
    "    'coefficient':[model.intercept_] + list(model.coef_)\n",
    "})\n",
    "\n",
    "coef_df"
   ]
  },
  {
   "cell_type": "markdown",
   "id": "31b78577",
   "metadata": {},
   "source": [
    "1. When all features is 0, it is expected that value of 'medv' is 23.518308\n",
    "2. As it shows negatif, when an increase of 1 on 'crim' (crime rate by town) meaning that a decrease of 'medv' valued 0.081. Artinya, ketika rata-rata tingkat kriminal dalam sebuah kota naik 1, maka terjadi penurunan rata-rata harga rumah senilai -0.081022 * $1000 = $81,022 dollars\n",
    "3. When an increase of 1 on 'zn' (luas tanah kavling) meaning that an increase of 'medv' valued 0.022474. Artinya, tiap 1 * 25,000 sq.ft.(tanah kavling) bersumbangsi pada kenaikan harga rata-rata (medv) 0.022474 * $1000 = $22,474 dollars"
   ]
  },
  {
   "cell_type": "markdown",
   "id": "f74a6188",
   "metadata": {},
   "source": [
    "### Lasso "
   ]
  },
  {
   "cell_type": "code",
   "execution_count": 44,
   "id": "cada8aab",
   "metadata": {},
   "outputs": [
    {
     "data": {
      "text/plain": [
       "Lasso(alpha=0.1, random_state=42)"
      ]
     },
     "execution_count": 44,
     "metadata": {},
     "output_type": "execute_result"
    }
   ],
   "source": [
    "from sklearn.linear_model import Lasso\n",
    "\n",
    "# define the model\n",
    "lasso_reg = Lasso(alpha=0.1, \n",
    "                  random_state=42)\n",
    "\n",
    "lasso_reg.fit(X_boston_train, y_boston_train)"
   ]
  },
  {
   "cell_type": "markdown",
   "id": "89355f81",
   "metadata": {},
   "source": [
    "### Train Multiple Models with different alpha (lambda) = 0.01, 0.1, 1, 10"
   ]
  },
  {
   "cell_type": "code",
   "execution_count": 45,
   "id": "46b84e6d",
   "metadata": {},
   "outputs": [
    {
     "data": {
      "text/plain": [
       "Lasso(alpha=10, random_state=42)"
      ]
     },
     "execution_count": 45,
     "metadata": {},
     "output_type": "execute_result"
    }
   ],
   "source": [
    "from sklearn.linear_model import Lasso\n",
    "\n",
    "# train the model\n",
    "X_boston_train = feature_boston_train.to_numpy()\n",
    "y_boston_train = target_boston_train.to_numpy()\n",
    "y_boston_train = y_boston_train.reshape(len(y_boston_train),)\n",
    "\n",
    "# define the model\n",
    "lasso_reg_pointzeroone = Lasso(alpha=0.01, random_state=42)\n",
    "lasso_reg_pointone = Lasso(alpha=0.1, random_state=42)\n",
    "lasso_reg_one = Lasso(alpha=1, random_state=42)\n",
    "lasso_reg_ten = Lasso(alpha=10, random_state=42)\n",
    "\n",
    "# fit the model (training)\n",
    "lasso_reg_pointzeroone.fit(X_boston_train, y_boston_train)\n",
    "lasso_reg_pointone.fit(X_boston_train, y_boston_train)\n",
    "lasso_reg_one.fit(X_boston_train, y_boston_train)\n",
    "lasso_reg_ten.fit(X_boston_train, y_boston_train)"
   ]
  },
  {
   "cell_type": "markdown",
   "id": "c0664fac",
   "metadata": {},
   "source": [
    "### Find the best model (alpha) Based on Validation test"
   ]
  },
  {
   "cell_type": "code",
   "execution_count": 46,
   "id": "d01eb5f6",
   "metadata": {},
   "outputs": [
    {
     "name": "stdout",
     "output_type": "stream",
     "text": [
      "RMSE of Lasso regression model with alpha = 0.01 is 4.8163663712178995\n",
      "RMSE of Lasso regression model with alpha = 0.1 is 4.811559973015987\n",
      "RMSE of Lasso regression model with alpha = 1.0 is 4.795136609843343\n",
      "RMSE of Lasso regression model with alpha = 10 is 5.433983389465047\n"
     ]
    }
   ],
   "source": [
    "from sklearn.metrics import mean_squared_error\n",
    "\n",
    "X_boston_validation = feature_boston_validation.to_numpy()\n",
    "y_boston_validation = target_boston_validation.to_numpy()\n",
    "y_boston_validation = y_boston_validation.reshape(len(y_boston_validation),)\n",
    "\n",
    "alphas = [0.01, 0.1, 1., 10]\n",
    "models = [lasso_reg_pointzeroone,\n",
    "          lasso_reg_pointone,\n",
    "          lasso_reg_one,\n",
    "          lasso_reg_ten]\n",
    "\n",
    "for model, alpha in zip(models, alphas):\n",
    "    y_predict_validation = model.predict(X_boston_validation)\n",
    "    rmse = np.sqrt(mean_squared_error(y_boston_validation,y_predict_validation))\n",
    "    print(f'RMSE of Lasso regression model with alpha = {alpha} is {rmse}')"
   ]
  },
  {
   "cell_type": "markdown",
   "id": "5e411e11",
   "metadata": {},
   "source": [
    "The lasso regression model with alpha = 1.0 is the best lasso regression model"
   ]
  },
  {
   "cell_type": "markdown",
   "id": "afcab9e2",
   "metadata": {},
   "source": [
    "### Evaluation Model with Lasso"
   ]
  },
  {
   "cell_type": "code",
   "execution_count": 47,
   "id": "c5fdf362",
   "metadata": {},
   "outputs": [
    {
     "data": {
      "text/html": [
       "<div>\n",
       "<style scoped>\n",
       "    .dataframe tbody tr th:only-of-type {\n",
       "        vertical-align: middle;\n",
       "    }\n",
       "\n",
       "    .dataframe tbody tr th {\n",
       "        vertical-align: top;\n",
       "    }\n",
       "\n",
       "    .dataframe thead th {\n",
       "        text-align: right;\n",
       "    }\n",
       "</style>\n",
       "<table border=\"1\" class=\"dataframe\">\n",
       "  <thead>\n",
       "    <tr style=\"text-align: right;\">\n",
       "      <th></th>\n",
       "      <th>feature</th>\n",
       "      <th>coefficient</th>\n",
       "    </tr>\n",
       "  </thead>\n",
       "  <tbody>\n",
       "    <tr>\n",
       "      <th>0</th>\n",
       "      <td>intercept</td>\n",
       "      <td>15.425577</td>\n",
       "    </tr>\n",
       "    <tr>\n",
       "      <th>1</th>\n",
       "      <td>crim</td>\n",
       "      <td>-0.075710</td>\n",
       "    </tr>\n",
       "    <tr>\n",
       "      <th>2</th>\n",
       "      <td>zn</td>\n",
       "      <td>0.027093</td>\n",
       "    </tr>\n",
       "    <tr>\n",
       "      <th>3</th>\n",
       "      <td>indus</td>\n",
       "      <td>-0.061336</td>\n",
       "    </tr>\n",
       "    <tr>\n",
       "      <th>4</th>\n",
       "      <td>chas</td>\n",
       "      <td>1.266833</td>\n",
       "    </tr>\n",
       "    <tr>\n",
       "      <th>5</th>\n",
       "      <td>nox</td>\n",
       "      <td>-0.000000</td>\n",
       "    </tr>\n",
       "    <tr>\n",
       "      <th>6</th>\n",
       "      <td>rm</td>\n",
       "      <td>4.564419</td>\n",
       "    </tr>\n",
       "    <tr>\n",
       "      <th>7</th>\n",
       "      <td>age</td>\n",
       "      <td>-0.016919</td>\n",
       "    </tr>\n",
       "    <tr>\n",
       "      <th>8</th>\n",
       "      <td>dis</td>\n",
       "      <td>-1.155550</td>\n",
       "    </tr>\n",
       "    <tr>\n",
       "      <th>9</th>\n",
       "      <td>tax</td>\n",
       "      <td>-0.002088</td>\n",
       "    </tr>\n",
       "    <tr>\n",
       "      <th>10</th>\n",
       "      <td>ptratio</td>\n",
       "      <td>-0.657651</td>\n",
       "    </tr>\n",
       "    <tr>\n",
       "      <th>11</th>\n",
       "      <td>black</td>\n",
       "      <td>0.012361</td>\n",
       "    </tr>\n",
       "    <tr>\n",
       "      <th>12</th>\n",
       "      <td>lstat</td>\n",
       "      <td>-0.551271</td>\n",
       "    </tr>\n",
       "  </tbody>\n",
       "</table>\n",
       "</div>"
      ],
      "text/plain": [
       "      feature  coefficient\n",
       "0   intercept    15.425577\n",
       "1        crim    -0.075710\n",
       "2          zn     0.027093\n",
       "3       indus    -0.061336\n",
       "4        chas     1.266833\n",
       "5         nox    -0.000000\n",
       "6          rm     4.564419\n",
       "7         age    -0.016919\n",
       "8         dis    -1.155550\n",
       "9         tax    -0.002088\n",
       "10    ptratio    -0.657651\n",
       "11      black     0.012361\n",
       "12      lstat    -0.551271"
      ]
     },
     "execution_count": 47,
     "metadata": {},
     "output_type": "execute_result"
    }
   ],
   "source": [
    "# retrieve the coefficients\n",
    "# show as a nice dataframe\n",
    "\n",
    "data = feature_boston_train\n",
    "model = lasso_reg\n",
    "\n",
    "coef_df = pd.DataFrame({\n",
    "    'feature':['intercept'] + data.columns.tolist(),\n",
    "    'coefficient':[model.intercept_] + list(model.coef_)\n",
    "})\n",
    "\n",
    "coef_df"
   ]
  },
  {
   "cell_type": "markdown",
   "id": "6ea8f913",
   "metadata": {},
   "source": [
    "## Workflow with choosing the best lambda"
   ]
  },
  {
   "cell_type": "markdown",
   "id": "b1774ce3",
   "metadata": {},
   "source": [
    "### Split data: train-validation-test"
   ]
  },
  {
   "cell_type": "code",
   "execution_count": 48,
   "id": "f9c03620",
   "metadata": {},
   "outputs": [],
   "source": [
    "# split train test\n",
    "from sklearn.model_selection import train_test_split\n",
    "\n",
    "feature = boston.drop(columns='medv')\n",
    "target = boston[['medv']]\n",
    "\n",
    "feature_boston_pretrain, feature_boston_test, target_boston_pretrain, target_boston_test = train_test_split(feature, target, test_size=0.20, random_state=42)\n",
    "\n",
    "feature_boston_train, feature_boston_validation, target_boston_train, target_boston_validation = train_test_split(feature_boston_pretrain, target_boston_pretrain, test_size=0.20, random_state=42)"
   ]
  },
  {
   "cell_type": "markdown",
   "id": "352df9e7",
   "metadata": {},
   "source": [
    "### Drop Multicollinear Features"
   ]
  },
  {
   "cell_type": "code",
   "execution_count": 49,
   "id": "6a1425b7",
   "metadata": {},
   "outputs": [],
   "source": [
    "feature_boston_train = feature_boston_train.drop(columns=['rad'])\n",
    "feature_boston_validation = feature_boston_validation.drop(columns=['rad'])\n",
    "feature_boston_test = feature_boston_test.drop(columns=['rad'])"
   ]
  },
  {
   "cell_type": "markdown",
   "id": "8c474e28",
   "metadata": {},
   "source": [
    "### Train Multiple Models with different alpha (lambda)"
   ]
  },
  {
   "cell_type": "markdown",
   "id": "b87060c9",
   "metadata": {},
   "source": [
    "### lambdas = [0.01, 0.1, 1, 10]"
   ]
  },
  {
   "cell_type": "code",
   "execution_count": 50,
   "id": "77aef963",
   "metadata": {},
   "outputs": [
    {
     "data": {
      "text/plain": [
       "Ridge(alpha=10, random_state=42)"
      ]
     },
     "execution_count": 50,
     "metadata": {},
     "output_type": "execute_result"
    }
   ],
   "source": [
    "from sklearn.linear_model import Ridge\n",
    "\n",
    "# train the model\n",
    "X_boston_train = feature_boston_train.to_numpy()\n",
    "y_boston_train = target_boston_train.to_numpy()\n",
    "y_boston_train = y_boston_train.reshape(len(y_boston_train),)\n",
    "\n",
    "# define the model\n",
    "ridge_reg_pointzeroone = Ridge(alpha=0.01, random_state=42)\n",
    "ridge_reg_pointone = Ridge(alpha=0.1, random_state=42)\n",
    "ridge_reg_one = Ridge(alpha=1, random_state=42)\n",
    "ridge_reg_ten = Ridge(alpha=10, random_state=42)\n",
    "\n",
    "# fit the model (training)\n",
    "ridge_reg_pointzeroone.fit(X_boston_train, y_boston_train)\n",
    "ridge_reg_pointone.fit(X_boston_train, y_boston_train)\n",
    "ridge_reg_one.fit(X_boston_train, y_boston_train)\n",
    "ridge_reg_ten.fit(X_boston_train, y_boston_train)"
   ]
  },
  {
   "cell_type": "markdown",
   "id": "636e0293",
   "metadata": {},
   "source": [
    "### Find the best model (alpha) based on validation set"
   ]
  },
  {
   "cell_type": "code",
   "execution_count": 51,
   "id": "229cba09",
   "metadata": {},
   "outputs": [
    {
     "name": "stdout",
     "output_type": "stream",
     "text": [
      "RMSE of Ridge regression model with alpha = 0.01 is 4.960676932957845\n",
      "RMSE of Ridge regression model with alpha = 0.1 is 4.94941253512279\n",
      "RMSE of Ridge regression model with alpha = 1.0 is 4.912351371579992\n",
      "RMSE of Ridge regression model with alpha = 10 is 4.871717983886227\n"
     ]
    }
   ],
   "source": [
    "from sklearn.metrics import mean_squared_error\n",
    "\n",
    "X_boston_validation = feature_boston_validation.to_numpy()\n",
    "y_boston_validation = target_boston_validation.to_numpy()\n",
    "y_boston_validation = y_boston_validation.reshape(len(y_boston_validation),)\n",
    "\n",
    "alphas = [0.01, 0.1, 1., 10]\n",
    "models = [ridge_reg_pointzeroone,\n",
    "          ridge_reg_pointone,\n",
    "          ridge_reg_one,\n",
    "          ridge_reg_ten]\n",
    "\n",
    "for model, alpha in zip(models, alphas):\n",
    "    y_predict_validation = model.predict(X_boston_validation)\n",
    "    rmse = np.sqrt(mean_squared_error(y_boston_validation,y_predict_validation))\n",
    "    print(f'RMSE of Ridge regression model with alpha = {alpha} is {rmse}')"
   ]
  },
  {
   "cell_type": "markdown",
   "id": "a63874ef",
   "metadata": {},
   "source": [
    "The rigde regression model with alpha = 10 is the best ridge regression model"
   ]
  },
  {
   "cell_type": "markdown",
   "id": "0a270f57",
   "metadata": {},
   "source": [
    "### Model Evaluation"
   ]
  },
  {
   "cell_type": "code",
   "execution_count": 52,
   "id": "532bdb5d",
   "metadata": {},
   "outputs": [
    {
     "data": {
      "text/html": [
       "<div>\n",
       "<style scoped>\n",
       "    .dataframe tbody tr th:only-of-type {\n",
       "        vertical-align: middle;\n",
       "    }\n",
       "\n",
       "    .dataframe tbody tr th {\n",
       "        vertical-align: top;\n",
       "    }\n",
       "\n",
       "    .dataframe thead th {\n",
       "        text-align: right;\n",
       "    }\n",
       "</style>\n",
       "<table border=\"1\" class=\"dataframe\">\n",
       "  <thead>\n",
       "    <tr style=\"text-align: right;\">\n",
       "      <th></th>\n",
       "      <th>feature</th>\n",
       "      <th>coefficient</th>\n",
       "    </tr>\n",
       "  </thead>\n",
       "  <tbody>\n",
       "    <tr>\n",
       "      <th>0</th>\n",
       "      <td>intercept</td>\n",
       "      <td>15.064666</td>\n",
       "    </tr>\n",
       "    <tr>\n",
       "      <th>1</th>\n",
       "      <td>crim</td>\n",
       "      <td>-0.071408</td>\n",
       "    </tr>\n",
       "    <tr>\n",
       "      <th>2</th>\n",
       "      <td>zn</td>\n",
       "      <td>0.033030</td>\n",
       "    </tr>\n",
       "    <tr>\n",
       "      <th>3</th>\n",
       "      <td>indus</td>\n",
       "      <td>-0.067858</td>\n",
       "    </tr>\n",
       "    <tr>\n",
       "      <th>4</th>\n",
       "      <td>chas</td>\n",
       "      <td>1.955801</td>\n",
       "    </tr>\n",
       "    <tr>\n",
       "      <th>5</th>\n",
       "      <td>nox</td>\n",
       "      <td>-1.568248</td>\n",
       "    </tr>\n",
       "    <tr>\n",
       "      <th>6</th>\n",
       "      <td>rm</td>\n",
       "      <td>4.783168</td>\n",
       "    </tr>\n",
       "    <tr>\n",
       "      <th>7</th>\n",
       "      <td>age</td>\n",
       "      <td>-0.011523</td>\n",
       "    </tr>\n",
       "    <tr>\n",
       "      <th>8</th>\n",
       "      <td>dis</td>\n",
       "      <td>-1.260056</td>\n",
       "    </tr>\n",
       "    <tr>\n",
       "      <th>9</th>\n",
       "      <td>tax</td>\n",
       "      <td>-0.001976</td>\n",
       "    </tr>\n",
       "    <tr>\n",
       "      <th>10</th>\n",
       "      <td>ptratio</td>\n",
       "      <td>-0.697550</td>\n",
       "    </tr>\n",
       "    <tr>\n",
       "      <th>11</th>\n",
       "      <td>black</td>\n",
       "      <td>0.012729</td>\n",
       "    </tr>\n",
       "    <tr>\n",
       "      <th>12</th>\n",
       "      <td>lstat</td>\n",
       "      <td>-0.523827</td>\n",
       "    </tr>\n",
       "  </tbody>\n",
       "</table>\n",
       "</div>"
      ],
      "text/plain": [
       "      feature  coefficient\n",
       "0   intercept    15.064666\n",
       "1        crim    -0.071408\n",
       "2          zn     0.033030\n",
       "3       indus    -0.067858\n",
       "4        chas     1.955801\n",
       "5         nox    -1.568248\n",
       "6          rm     4.783168\n",
       "7         age    -0.011523\n",
       "8         dis    -1.260056\n",
       "9         tax    -0.001976\n",
       "10    ptratio    -0.697550\n",
       "11      black     0.012729\n",
       "12      lstat    -0.523827"
      ]
     },
     "execution_count": 52,
     "metadata": {},
     "output_type": "execute_result"
    }
   ],
   "source": [
    "ridge_best = ridge_reg_ten\n",
    "\n",
    "coef_df = pd.DataFrame({\n",
    "    'feature':['intercept'] + feature_boston_train.columns.tolist(),\n",
    "    'coefficient':[ridge_best.intercept_] + list(ridge_best.coef_)\n",
    "})\n",
    "\n",
    "coef_df"
   ]
  },
  {
   "cell_type": "markdown",
   "id": "25459fe7",
   "metadata": {},
   "source": [
    "### Diagnostic Study"
   ]
  },
  {
   "cell_type": "code",
   "execution_count": 53,
   "id": "2a9340dd",
   "metadata": {},
   "outputs": [
    {
     "name": "stdout",
     "output_type": "stream",
     "text": [
      "R-squared for training data is 0.7485875263669821\n"
     ]
    }
   ],
   "source": [
    "from sklearn.metrics import r2_score\n",
    "\n",
    "y_predict_train = ridge_best.predict(X_boston_train)\n",
    "\n",
    "print('R-squared for training data is {}'.format(r2_score(y_boston_train, y_predict_train)))"
   ]
  },
  {
   "cell_type": "markdown",
   "id": "5b98b6e7",
   "metadata": {},
   "source": [
    "1. R-squared menunjukkan bahwa 75% fitur-fitur telah mampu bersumbangsi kepada variabel target. Artinya fitur-fitur yang ada dalam data telah mampu menjelaskan prediksi harga rumah (medv).\n",
    "2. 25% nya merupakan fitur-fitur lain yang tidak diukur dalam pengaruhnya pada variabel target.\n",
    "3. Kemudian, jiika determinan R-squared > 70% maka variabel lainya yang dianggap pengganggu (heteroskedastisitas) tidak terlalu mempengaruhi estimasi yaitu model estimasi bebas dari masalah heteroskedastisitas."
   ]
  },
  {
   "cell_type": "code",
   "execution_count": 54,
   "id": "7d380ed9",
   "metadata": {},
   "outputs": [
    {
     "data": {
      "image/png": "[encoded data removed]",
      "text/plain": [
       "<Figure size 432x288 with 1 Axes>"
      ]
     },
     "metadata": {
      "needs_background": "light"
     },
     "output_type": "display_data"
    }
   ],
   "source": [
    "# calculate residuals\n",
    "residual = y_boston_train - y_predict_train\n",
    "\n",
    "# prepare dataframe\n",
    "# 1 predictor --> predictor VS residual\n",
    "df_resid = pd.DataFrame({\n",
    "    'predicted_value': y_predict_train,\n",
    "    'residual': residual\n",
    "})\n",
    "\n",
    "# residual plot\n",
    "sns.scatterplot(data=df_resid, x=\"predicted_value\", y=\"residual\")\n",
    "plt.axhline(0)\n",
    "plt.show()"
   ]
  },
  {
   "cell_type": "markdown",
   "id": "6fe507bb",
   "metadata": {},
   "source": [
    "Berdasarkan output Scatterplots di atas diketahui bahwa:\n",
    "1. Titik-titik data penyebar di atas dan di bawah atau di sekitar garis angka 0\n",
    "2. Penyebaran titik-titik data tidak membentuk pola bergelombang melebar kemudian menyempit dan melebar kembali\n",
    "3. Penyebaran titik-titik data tidak berpola\n",
    "\n",
    "maka dari itu, dapat dikatakan bahwa tidak terjadi masalah heteroskedastistas sehingga model regresi dapat dikatakan sudah baik dan ideal untuk terpenuhi"
   ]
  },
  {
   "cell_type": "code",
   "execution_count": 55,
   "id": "f75529c9",
   "metadata": {},
   "outputs": [
    {
     "data": {
      "text/html": [
       "<div>\n",
       "<style scoped>\n",
       "    .dataframe tbody tr th:only-of-type {\n",
       "        vertical-align: middle;\n",
       "    }\n",
       "\n",
       "    .dataframe tbody tr th {\n",
       "        vertical-align: top;\n",
       "    }\n",
       "\n",
       "    .dataframe thead th {\n",
       "        text-align: right;\n",
       "    }\n",
       "</style>\n",
       "<table border=\"1\" class=\"dataframe\">\n",
       "  <thead>\n",
       "    <tr style=\"text-align: right;\">\n",
       "      <th></th>\n",
       "      <th>predicted_value</th>\n",
       "      <th>residual</th>\n",
       "    </tr>\n",
       "  </thead>\n",
       "  <tbody>\n",
       "    <tr>\n",
       "      <th>0</th>\n",
       "      <td>16.672429</td>\n",
       "      <td>2.227571</td>\n",
       "    </tr>\n",
       "    <tr>\n",
       "      <th>1</th>\n",
       "      <td>20.956937</td>\n",
       "      <td>-2.556937</td>\n",
       "    </tr>\n",
       "    <tr>\n",
       "      <th>2</th>\n",
       "      <td>10.459169</td>\n",
       "      <td>2.940831</td>\n",
       "    </tr>\n",
       "    <tr>\n",
       "      <th>3</th>\n",
       "      <td>14.768375</td>\n",
       "      <td>2.831625</td>\n",
       "    </tr>\n",
       "    <tr>\n",
       "      <th>4</th>\n",
       "      <td>27.768524</td>\n",
       "      <td>-4.968524</td>\n",
       "    </tr>\n",
       "  </tbody>\n",
       "</table>\n",
       "</div>"
      ],
      "text/plain": [
       "   predicted_value  residual\n",
       "0        16.672429  2.227571\n",
       "1        20.956937 -2.556937\n",
       "2        10.459169  2.940831\n",
       "3        14.768375  2.831625\n",
       "4        27.768524 -4.968524"
      ]
     },
     "execution_count": 55,
     "metadata": {},
     "output_type": "execute_result"
    }
   ],
   "source": [
    "df_resid.head()"
   ]
  },
  {
   "cell_type": "markdown",
   "id": "3ce81968",
   "metadata": {},
   "source": [
    "### Training Error"
   ]
  },
  {
   "cell_type": "code",
   "execution_count": 56,
   "id": "02911a1a",
   "metadata": {},
   "outputs": [],
   "source": [
    "# prepare prediction result on train data\n",
    "y_predict_train = ridge_best.predict(X_boston_train)"
   ]
  },
  {
   "cell_type": "code",
   "execution_count": 57,
   "id": "6386d622",
   "metadata": {},
   "outputs": [
    {
     "name": "stdout",
     "output_type": "stream",
     "text": [
      "RMSE for training data is 4.77864036104011\n",
      "MAE for training data is 3.3776762058865626\n",
      "MAPE for training data is 0.16868073663359498\n"
     ]
    }
   ],
   "source": [
    "from sklearn.metrics import mean_squared_error\n",
    "from sklearn.metrics import mean_absolute_error\n",
    "from sklearn.metrics import mean_absolute_percentage_error\n",
    "\n",
    "print('RMSE for training data is {}'.format(np.sqrt(mean_squared_error(y_boston_train, y_predict_train))))\n",
    "print('MAE for training data is {}'.format(mean_absolute_error(y_boston_train, y_predict_train)))\n",
    "print('MAPE for training data is {}'.format(mean_absolute_percentage_error(y_boston_train, y_predict_train)))"
   ]
  },
  {
   "cell_type": "markdown",
   "id": "f7dea014",
   "metadata": {},
   "source": [
    "Interpretasi MAPE yaitu semakin kecil nilai presentasi kesalahan (percentage error) pada MAPE maka semakin akurat hasil peramalan tersebut dengan interval persentase 10 - 30%. Artinya training error yang dilakukan pada data ini sebesar 16,86%, maka peramalan yang dilakukan sudah baik."
   ]
  },
  {
   "cell_type": "markdown",
   "id": "f33e2426",
   "metadata": {},
   "source": [
    "### Testing Error"
   ]
  },
  {
   "cell_type": "code",
   "execution_count": 58,
   "id": "5db9050d",
   "metadata": {},
   "outputs": [],
   "source": [
    "# prepare prediction result on test data\n",
    "X_boston_test = feature_boston_test.to_numpy()\n",
    "y_predict_test = ridge_best.predict(X_boston_test)\n",
    "\n",
    "# ground truth target\n",
    "y_boston_test = target_boston_test.to_numpy()\n",
    "y_boston_test = y_boston_test.reshape(len(y_boston_test),)"
   ]
  },
  {
   "cell_type": "code",
   "execution_count": 59,
   "id": "05f1f48d",
   "metadata": {},
   "outputs": [
    {
     "name": "stdout",
     "output_type": "stream",
     "text": [
      "RMSE for testing data is 5.158908333657055\n",
      "MAE for testing data is 3.244481645704497\n",
      "MAPE for testing data is 0.17618402626767923\n"
     ]
    }
   ],
   "source": [
    "from sklearn.metrics import mean_squared_error\n",
    "from sklearn.metrics import mean_absolute_error\n",
    "from sklearn.metrics import mean_absolute_percentage_error\n",
    "\n",
    "print('RMSE for testing data is {}'.format(np.sqrt(mean_squared_error(y_boston_test, y_predict_test))))\n",
    "print('MAE for testing data is {}'.format(mean_absolute_error(y_boston_test, y_predict_test)))\n",
    "print('MAPE for testing data is {}'.format(mean_absolute_percentage_error(y_boston_test, y_predict_test)))"
   ]
  },
  {
   "cell_type": "markdown",
   "id": "1124c160",
   "metadata": {},
   "source": [
    "Testing error yang dilakukan pada data ini sebesar 17,61%, maka peramalan yang dilakukan sudah baik."
   ]
  },
  {
   "cell_type": "code",
   "execution_count": 60,
   "id": "642982de",
   "metadata": {},
   "outputs": [
    {
     "data": {
      "text/plain": [
       "0.17618402626767923"
      ]
     },
     "execution_count": 60,
     "metadata": {},
     "output_type": "execute_result"
    }
   ],
   "source": [
    "from sklearn.metrics import mean_absolute_error\n",
    "from sklearn.metrics import mean_absolute_percentage_error\n",
    "\n",
    "mean_absolute_error(y_boston_test, y_predict_test)\n",
    "mean_absolute_percentage_error(y_boston_test, y_predict_test)"
   ]
  },
  {
   "cell_type": "markdown",
   "id": "b830c08e",
   "metadata": {},
   "source": [
    "Interpretation:\n",
    "1. Based on RMSE or standard deviations of predicting error is 5.15, meaning that the residual is about 5.15.\n",
    "2. Training and testing data are not much different meaning that no indicated as an overfitting and underfitting."
   ]
  },
  {
   "cell_type": "code",
   "execution_count": null,
   "id": "786040e8",
   "metadata": {},
   "outputs": [],
   "source": []
  }
 ],
 "metadata": {
  "kernelspec": {
   "display_name": "Python 3 (ipykernel)",
   "language": "python",
   "name": "python3"
  },
  "language_info": {
   "codemirror_mode": {
    "name": "ipython",
    "version": 3
   },
   "file_extension": ".py",
   "mimetype": "text/x-python",
   "name": "python",
   "nbconvert_exporter": "python",
   "pygments_lexer": "ipython3",
   "version": "3.9.12"
  }
 },
 "nbformat": 4,
 "nbformat_minor": 5
}
